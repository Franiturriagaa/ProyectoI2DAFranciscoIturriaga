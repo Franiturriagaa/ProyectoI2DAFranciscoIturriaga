{
 "cells": [
  {
   "cell_type": "code",
   "execution_count": null,
   "metadata": {},
   "outputs": [],
   "source": [
    "import pandas as pd"
   ]
  },
  {
   "cell_type": "markdown",
   "metadata": {},
   "source": [
    "## Accesos"
   ]
  },
  {
   "cell_type": "code",
   "execution_count": null,
   "metadata": {},
   "outputs": [],
   "source": [
    "acc_vel_loc_sinrangos = pd.read_csv('Dataset_Internet/00 Accesos/Acc_vel_loc_sinrangos.csv', encoding='latin1')\n",
    "accesos_por_tecnologia = pd.read_csv('Dataset_Internet/00 Accesos/Accesos_por_tecnologia.csv', encoding='latin1')\n",
    "accesos_por_velocidad = pd.read_csv('Dataset_Internet/00 Accesos/Accesos_por_velocidad.csv', encoding='latin1')\n",
    "accesos_tecnologia_localidad = pd.read_csv('Dataset_Internet/00 Accesos/Accesos_Tecnologia_Localidad.csv', encoding='latin1')"
   ]
  },
  {
   "cell_type": "code",
   "execution_count": null,
   "metadata": {},
   "outputs": [],
   "source": [
    "acc_vel_loc_sinrangos.head()"
   ]
  },
  {
   "cell_type": "code",
   "execution_count": null,
   "metadata": {},
   "outputs": [],
   "source": [
    "accesos_por_tecnologia.head()"
   ]
  },
  {
   "cell_type": "code",
   "execution_count": null,
   "metadata": {},
   "outputs": [],
   "source": [
    "accesos_por_velocidad.head()"
   ]
  },
  {
   "cell_type": "code",
   "execution_count": null,
   "metadata": {},
   "outputs": [],
   "source": [
    "accesos_tecnologia_localidad.head()"
   ]
  },
  {
   "cell_type": "markdown",
   "metadata": {},
   "source": [
    "## Penetracion\n"
   ]
  },
  {
   "cell_type": "code",
   "execution_count": null,
   "metadata": {},
   "outputs": [],
   "source": [
    "penetracion_hogares = pd.read_csv('Dataset_Internet/01 Penetracion/Penetracion-hogares.csv', encoding='latin1')\n",
    "penetracion_poblacion = pd.read_csv('Dataset_Internet/01 Penetracion/Penetracion-poblacion.csv', encoding='latin1')\n",
    "penetracion_totales = pd.read_csv('Dataset_Internet/01 Penetracion/Penetracion-hogares.csv', encoding='latin1')"
   ]
  },
  {
   "cell_type": "code",
   "execution_count": null,
   "metadata": {},
   "outputs": [],
   "source": [
    "penetracion_hogares.head()\n",
    "penetracion_poblacion.head()"
   ]
  },
  {
   "cell_type": "markdown",
   "metadata": {},
   "source": [
    "## Totales"
   ]
  },
  {
   "cell_type": "code",
   "execution_count": null,
   "metadata": {},
   "outputs": [],
   "source": [
    "totales_accesos_por_tecnologia = pd.read_csv('Dataset_Internet/02 Totales/Totales_Accesos_por_tecnologia.csv', encoding='latin1')\n",
    "totales_accesos_por_velocidad = pd.read_csv('Dataset_Internet/02 Totales/Totales_Accesos_por_velocidad.csv', encoding='latin1')\n",
    "totales_dial_baf = pd.read_csv('Dataset_Internet/02 Totales/Totales_Dial_BAf.csv', encoding='latin1')\n",
    "internet_ingresostotalesxtrimestre = pd.read_csv('Dataset_Internet/02 Totales/Internet_IngresosTotalesxTrimestre.csv', encoding='latin1')\n",
    "totales_vmd = pd.read_csv('Dataset_Internet/02 Totales/Totales_VMD.csv', encoding='latin1')"
   ]
  },
  {
   "cell_type": "code",
   "execution_count": null,
   "metadata": {},
   "outputs": [],
   "source": [
    "totales_accesos_por_tecnologia.head()"
   ]
  },
  {
   "cell_type": "markdown",
   "metadata": {},
   "source": [
    "## Velocidad"
   ]
  },
  {
   "cell_type": "code",
   "execution_count": null,
   "metadata": {},
   "outputs": [],
   "source": [
    "velocidad_por_provincia = pd.read_csv('Dataset_Internet/03 Velocidad/Velocidad_por_provincia.csv', encoding='latin1')\n",
    "velocidad_sin_rangos = pd.read_csv('Dataset_Internet/03 Velocidad/Velocidad_Sin_Rangos.csv', encoding='latin1')"
   ]
  },
  {
   "cell_type": "code",
   "execution_count": null,
   "metadata": {},
   "outputs": [],
   "source": [
    "velocidad_por_provincia.head()"
   ]
  },
  {
   "cell_type": "markdown",
   "metadata": {},
   "source": [
    "## Otros"
   ]
  },
  {
   "cell_type": "code",
   "execution_count": null,
   "metadata": {},
   "outputs": [],
   "source": [
    "dial_baf = pd.read_csv('Dataset_Internet/04 Otros/Dial-BAf.csv', encoding='latin1')"
   ]
  },
  {
   "cell_type": "code",
   "execution_count": null,
   "metadata": {},
   "outputs": [],
   "source": [
    "dial_baf.head()"
   ]
  }
 ],
 "metadata": {
  "kernelspec": {
   "display_name": "Python 3",
   "language": "python",
   "name": "python3"
  },
  "language_info": {
   "codemirror_mode": {
    "name": "ipython",
    "version": 3
   },
   "file_extension": ".py",
   "mimetype": "text/x-python",
   "name": "python",
   "nbconvert_exporter": "python",
   "pygments_lexer": "ipython3",
   "version": "3.12.4"
  }
 },
 "nbformat": 4,
 "nbformat_minor": 2
}
