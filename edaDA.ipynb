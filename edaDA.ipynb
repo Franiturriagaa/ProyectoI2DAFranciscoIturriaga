{
 "cells": [
  {
   "cell_type": "markdown",
   "metadata": {},
   "source": [
    "# Análisis Exploratorio de Datos (EDA) sobre Servicios de Internet en Argentina"
   ]
  },
  {
   "cell_type": "markdown",
   "metadata": {},
   "source": [
    "## Introducción al Análisis Exploratorio de Datos\n",
    "\n",
    "El acceso a internet se ha convertido en un pilar fundamental para el desarrollo económico y social de Argentina. La conectividad no solo facilita la comunicación y el acceso a la información, sino que también es clave para la educación, la salud, y la economía digital. Sin embargo, la calidad y disponibilidad del servicio de internet varían considerablemente entre regiones, lo que hace necesario un análisis detallado para entender estas diferencias y su evolución en el tiempo.\n",
    "\n",
    "Este análisis exploratorio de datos (EDA) busca evaluar cómo han cambiado los patrones de uso, la velocidad de conexión, y otros indicadores clave del servicio de internet a nivel nacional entre 2014 y 2024. El objetivo es identificar tendencias y oportunidades para mejorar la infraestructura de telecomunicaciones en todo el país, proporcionando insights que puedan guiar tanto a los responsables de políticas como a las empresas del sector en sus decisiones para mejorar la conectividad en todas las provincias.\n"
   ]
  },
  {
   "cell_type": "markdown",
   "metadata": {},
   "source": [
    "-----"
   ]
  },
  {
   "cell_type": "markdown",
   "metadata": {},
   "source": [
    "## 0. PreAnálisis"
   ]
  },
  {
   "cell_type": "markdown",
   "metadata": {},
   "source": [
    "Antes de empezar con el análisis mas profundo vi por encima los 6 datasets que elegi para este proyecto, para poder contar que datos registra cada uno:\n",
    "\n",
    "1. Accesos_por_velocidad.csv: compuesto por casi 985 filas y 11 columnas, nos muestra datos desde 2014 a 2024, divididos por trimestres, teniendo en cuenta las 23 provincias argentinas y la capital federal, el rango de banda ancha y cuantos hogares tienen acceso en esas localidades a cada rango de velocidad.\n",
    "\n",
    "2. Totales_Accesos_por_velocidad.csv: compuesto por 42 filas y 12 columnas, muestra datos desde 2014 a 2024, de distintos rangos de banda ancha(velocidad), y cuantos hogares(es lo que supongo por los numeros) tienen acceso a esos rangos de banda ancha.\n",
    "\n",
    "3. Velocidad_por_provincia.csv: compuesto por 985 filas y 4 columnas, muestra datos desde 2014 a 2024, divididos por trimestres, de las 23 provincias argentinas y la capital federal, cual es la media de bajada de cada una en Mbps.\n",
    "\n",
    "4. Internet_IngresosTotalesxTrimestre.csv: compuesto por 43 filas y 4 columnas, muestra datos desde 2014 a 2024, divididos por trimestre, de la cantidad ingresos totales de los servicios de Internet a nivel nacional.\n",
    "\n",
    "5. Penetracion-hogares.csv: compuesto por 985 filas y 4 columnas, muestra datos desde 2014 a 2024, divididos por trimestre, mostrando los accesos cada 100 hogares por provincia.\n",
    "\n",
    "6. Penetracion-totales.csv: compuesto por 42 filas y 5 columnas, muestrados desde 2014 a 2024, divididos por trimestre, mostrando los accesos cada 100 hogares, y tambien por cada 100 habitantes, en total del pais.\n"
   ]
  },
  {
   "cell_type": "markdown",
   "metadata": {},
   "source": [
    "Empiezo importando las librerias necesarias para realizar el análisis"
   ]
  },
  {
   "cell_type": "code",
   "execution_count": 29,
   "metadata": {},
   "outputs": [],
   "source": [
    "import pandas as pd\n",
    "import matplotlib.pyplot as plt\n",
    "import seaborn as sns\n",
    "import numpy as np\n"
   ]
  },
  {
   "cell_type": "markdown",
   "metadata": {},
   "source": [
    "Elijo los CSV que me parecen importantes para realizarles un análisis, teniendo en cuenta que necesito conocer los aspectos mas importantes del comportamiento de los servicios de Internet a nivel nacional (Argentina)."
   ]
  },
  {
   "cell_type": "code",
   "execution_count": 30,
   "metadata": {},
   "outputs": [],
   "source": [
    "# Leo y cargo en un DataFrame cada uno de los 6 CSVs que elegi guiandome por los datos que vi por encima en libreOffice\n",
    "accesos_Provincia_Por_Velocidad = pd.read_csv('Dataset_Internet/00Accesos/Accesos_por_velocidad.csv', encoding='latin1')\n",
    "totalesarg_Accesos_Por_Velocidad = pd.read_csv('Dataset_Internet/00Accesos/Totales_Accesos_por_velocidad.csv', encoding='latin1')\n",
    "velocidad_Total_Por_Provincia = pd.read_csv('Dataset_Internet/03Velocidad/Velocidad_por_provincia.csv', encoding='latin1')\n",
    "internet_IngresosTotalesxTrimestre = pd.read_csv('Dataset_Internet/02Totales/Internet_IngresosTotalesxTrimestre.csv', encoding='latin1')\n",
    "penetracion_Hogares = pd.read_csv('Dataset_Internet/01Penetracion/Penetracion-hogares.csv', encoding='latin1')\n",
    "penetracion_Totalesarg = pd.read_csv('Dataset_Internet/01Penetracion/Penetracion-totales.csv', encoding='latin1')\n"
   ]
  },
  {
   "cell_type": "markdown",
   "metadata": {},
   "source": [
    "## Mi enfoque en el análisis"
   ]
  },
  {
   "cell_type": "markdown",
   "metadata": {},
   "source": [
    "Ahora voy a ir por cada uno de los datasets analizando detenidamente las siguientes cosas:\n",
    "1. Aspectos Generales del dataset: \n",
    "    Como el tipo de variables (ya sean categoricas o numericas), la cantidad de filas y columnas, valores nulos o faltantes.\n",
    "2. Descripcion Estadistica:\n",
    " \n",
    "    Medidas de tendencia central:\n",
    "    \n",
    "    Media\n",
    "    \n",
    "    Mediana\n",
    "\n",
    "    Medidas de Variabilidad:\n",
    "\n",
    "    Desviacion Estandar\n",
    "    \n",
    "    Rango Intercuartil\n",
    "\n",
    "3. Visualizacion de los datos:\n",
    "    Histograma\n",
    "    Boxplot (para intercuartiles)\n",
    "\n",
    "4. Analisis Bivariado y Multivariado:\n",
    "    Grafica de dispersion >>> Para ver aumento lineal\n",
    "    Indice de Correlacion Lineal entre variables: Positiva, Inversa o no hay Correlacion.\n",
    "    Grafico de Violin\n",
    "    Comparar una variable categorica y una numerica\n",
    "5. Correlacion"
   ]
  },
  {
   "cell_type": "markdown",
   "metadata": {},
   "source": [
    "----"
   ]
  },
  {
   "cell_type": "markdown",
   "metadata": {},
   "source": [
    "## 1. Análisis de accesos_Provincia_Por_Velocidad"
   ]
  },
  {
   "cell_type": "code",
   "execution_count": 31,
   "metadata": {},
   "outputs": [
    {
     "data": {
      "text/html": [
       "<div>\n",
       "<style scoped>\n",
       "    .dataframe tbody tr th:only-of-type {\n",
       "        vertical-align: middle;\n",
       "    }\n",
       "\n",
       "    .dataframe tbody tr th {\n",
       "        vertical-align: top;\n",
       "    }\n",
       "\n",
       "    .dataframe thead th {\n",
       "        text-align: right;\n",
       "    }\n",
       "</style>\n",
       "<table border=\"1\" class=\"dataframe\">\n",
       "  <thead>\n",
       "    <tr style=\"text-align: right;\">\n",
       "      <th></th>\n",
       "      <th>Año</th>\n",
       "      <th>Trimestre</th>\n",
       "      <th>Provincia</th>\n",
       "      <th>HASTA 512 kbps</th>\n",
       "      <th>+ 512 Kbps - 1 Mbps</th>\n",
       "      <th>+ 1 Mbps - 6 Mbps</th>\n",
       "      <th>+ 6 Mbps - 10 Mbps</th>\n",
       "      <th>+ 10 Mbps - 20 Mbps</th>\n",
       "      <th>+ 20 Mbps - 30 Mbps</th>\n",
       "      <th>+ 30 Mbps</th>\n",
       "      <th>OTROS</th>\n",
       "      <th>Total</th>\n",
       "    </tr>\n",
       "  </thead>\n",
       "  <tbody>\n",
       "    <tr>\n",
       "      <th>0</th>\n",
       "      <td>2024</td>\n",
       "      <td>1</td>\n",
       "      <td>Buenos Aires</td>\n",
       "      <td>26.002</td>\n",
       "      <td>22.510</td>\n",
       "      <td>221.185</td>\n",
       "      <td>233.225</td>\n",
       "      <td>241.778</td>\n",
       "      <td>106.418</td>\n",
       "      <td>4.068.292</td>\n",
       "      <td>125.147</td>\n",
       "      <td>5.044.557</td>\n",
       "    </tr>\n",
       "    <tr>\n",
       "      <th>1</th>\n",
       "      <td>2024</td>\n",
       "      <td>1</td>\n",
       "      <td>Capital Federal</td>\n",
       "      <td>516.000</td>\n",
       "      <td>5.418</td>\n",
       "      <td>29.753</td>\n",
       "      <td>51.415</td>\n",
       "      <td>37.369</td>\n",
       "      <td>5.957</td>\n",
       "      <td>1.374.283</td>\n",
       "      <td>0.000</td>\n",
       "      <td>1.504.711</td>\n",
       "    </tr>\n",
       "    <tr>\n",
       "      <th>2</th>\n",
       "      <td>2024</td>\n",
       "      <td>1</td>\n",
       "      <td>Catamarca</td>\n",
       "      <td>71.000</td>\n",
       "      <td>176.000</td>\n",
       "      <td>2.872</td>\n",
       "      <td>3.424</td>\n",
       "      <td>4.204</td>\n",
       "      <td>1.822</td>\n",
       "      <td>62.294</td>\n",
       "      <td>70.000</td>\n",
       "      <td>74.933</td>\n",
       "    </tr>\n",
       "    <tr>\n",
       "      <th>3</th>\n",
       "      <td>2024</td>\n",
       "      <td>1</td>\n",
       "      <td>Chaco</td>\n",
       "      <td>236.000</td>\n",
       "      <td>416.000</td>\n",
       "      <td>14.156</td>\n",
       "      <td>9.044</td>\n",
       "      <td>5.533</td>\n",
       "      <td>5.718</td>\n",
       "      <td>116.624</td>\n",
       "      <td>3.816</td>\n",
       "      <td>155.543</td>\n",
       "    </tr>\n",
       "    <tr>\n",
       "      <th>4</th>\n",
       "      <td>2024</td>\n",
       "      <td>1</td>\n",
       "      <td>Chubut</td>\n",
       "      <td>111.000</td>\n",
       "      <td>1.083</td>\n",
       "      <td>43.828</td>\n",
       "      <td>31.885</td>\n",
       "      <td>23.024</td>\n",
       "      <td>20.261</td>\n",
       "      <td>33.844</td>\n",
       "      <td>16.640</td>\n",
       "      <td>170.676</td>\n",
       "    </tr>\n",
       "  </tbody>\n",
       "</table>\n",
       "</div>"
      ],
      "text/plain": [
       "    Año  Trimestre        Provincia  HASTA 512 kbps  + 512 Kbps - 1 Mbps  \\\n",
       "0  2024          1     Buenos Aires          26.002               22.510   \n",
       "1  2024          1  Capital Federal         516.000                5.418   \n",
       "2  2024          1        Catamarca          71.000              176.000   \n",
       "3  2024          1            Chaco         236.000              416.000   \n",
       "4  2024          1           Chubut         111.000                1.083   \n",
       "\n",
       "  + 1 Mbps - 6 Mbps  + 6 Mbps - 10 Mbps  + 10 Mbps - 20 Mbps  \\\n",
       "0           221.185             233.225              241.778   \n",
       "1            29.753              51.415               37.369   \n",
       "2             2.872               3.424                4.204   \n",
       "3            14.156               9.044                5.533   \n",
       "4            43.828              31.885               23.024   \n",
       "\n",
       "   + 20 Mbps - 30 Mbps  + 30 Mbps    OTROS      Total  \n",
       "0              106.418  4.068.292  125.147  5.044.557  \n",
       "1                5.957  1.374.283    0.000  1.504.711  \n",
       "2                1.822     62.294   70.000     74.933  \n",
       "3                5.718    116.624    3.816    155.543  \n",
       "4               20.261     33.844   16.640    170.676  "
      ]
     },
     "execution_count": 31,
     "metadata": {},
     "output_type": "execute_result"
    }
   ],
   "source": [
    "accesos_Provincia_Por_Velocidad.head()"
   ]
  },
  {
   "cell_type": "markdown",
   "metadata": {},
   "source": [
    "Con este .head() miro por encima que tengo datos categoricos, y datos numericos discretos. Ademas de la distribucion de las columnas."
   ]
  },
  {
   "cell_type": "code",
   "execution_count": 32,
   "metadata": {},
   "outputs": [
    {
     "name": "stdout",
     "output_type": "stream",
     "text": [
      "<class 'pandas.core.frame.DataFrame'>\n",
      "RangeIndex: 984 entries, 0 to 983\n",
      "Data columns (total 12 columns):\n",
      " #   Column               Non-Null Count  Dtype  \n",
      "---  ------               --------------  -----  \n",
      " 0   Año                  984 non-null    int64  \n",
      " 1   Trimestre            984 non-null    int64  \n",
      " 2   Provincia            984 non-null    object \n",
      " 3   HASTA 512 kbps       984 non-null    float64\n",
      " 4   + 512 Kbps - 1 Mbps  984 non-null    float64\n",
      " 5   + 1 Mbps - 6 Mbps    984 non-null    object \n",
      " 6   + 6 Mbps - 10 Mbps   984 non-null    float64\n",
      " 7   + 10 Mbps - 20 Mbps  984 non-null    float64\n",
      " 8   + 20 Mbps - 30 Mbps  984 non-null    float64\n",
      " 9   + 30 Mbps            984 non-null    object \n",
      " 10  OTROS                978 non-null    float64\n",
      " 11  Total                984 non-null    object \n",
      "dtypes: float64(6), int64(2), object(4)\n",
      "memory usage: 92.4+ KB\n"
     ]
    }
   ],
   "source": [
    "accesos_Provincia_Por_Velocidad.info()"
   ]
  },
  {
   "cell_type": "markdown",
   "metadata": {},
   "source": [
    "De este .info() puedo ver los tipos de datos de cada columnas, donde tenemos integers, floats y objetos, determino tambien que solo hay valores faltantes en la columna OTROS, luego de revisarlos con una herramienta llamada \"Data Wrangler\" que me permite ver el dataset completo, llegue a la conclusion de que puedo transformar los nulos a 0 para tener mas limpio el df."
   ]
  },
  {
   "cell_type": "code",
   "execution_count": 33,
   "metadata": {},
   "outputs": [],
   "source": [
    "accesos_Provincia_Por_Velocidadsinnulos = accesos_Provincia_Por_Velocidad.fillna(0)"
   ]
  },
  {
   "cell_type": "code",
   "execution_count": 34,
   "metadata": {},
   "outputs": [
    {
     "data": {
      "text/html": [
       "<div>\n",
       "<style scoped>\n",
       "    .dataframe tbody tr th:only-of-type {\n",
       "        vertical-align: middle;\n",
       "    }\n",
       "\n",
       "    .dataframe tbody tr th {\n",
       "        vertical-align: top;\n",
       "    }\n",
       "\n",
       "    .dataframe thead th {\n",
       "        text-align: right;\n",
       "    }\n",
       "</style>\n",
       "<table border=\"1\" class=\"dataframe\">\n",
       "  <thead>\n",
       "    <tr style=\"text-align: right;\">\n",
       "      <th></th>\n",
       "      <th>Año</th>\n",
       "      <th>Trimestre</th>\n",
       "      <th>Provincia</th>\n",
       "      <th>HASTA 512 kbps</th>\n",
       "      <th>+ 512 Kbps - 1 Mbps</th>\n",
       "      <th>+ 1 Mbps - 6 Mbps</th>\n",
       "      <th>+ 6 Mbps - 10 Mbps</th>\n",
       "      <th>+ 10 Mbps - 20 Mbps</th>\n",
       "      <th>+ 20 Mbps - 30 Mbps</th>\n",
       "      <th>+ 30 Mbps</th>\n",
       "      <th>OTROS</th>\n",
       "      <th>Total</th>\n",
       "    </tr>\n",
       "  </thead>\n",
       "  <tbody>\n",
       "    <tr>\n",
       "      <th>0</th>\n",
       "      <td>2024</td>\n",
       "      <td>1</td>\n",
       "      <td>Buenos Aires</td>\n",
       "      <td>26.002</td>\n",
       "      <td>22.510</td>\n",
       "      <td>221.185</td>\n",
       "      <td>233.225</td>\n",
       "      <td>241.778</td>\n",
       "      <td>106.418</td>\n",
       "      <td>4.068.292</td>\n",
       "      <td>125.147</td>\n",
       "      <td>5.044.557</td>\n",
       "    </tr>\n",
       "    <tr>\n",
       "      <th>1</th>\n",
       "      <td>2024</td>\n",
       "      <td>1</td>\n",
       "      <td>Capital Federal</td>\n",
       "      <td>516.000</td>\n",
       "      <td>5.418</td>\n",
       "      <td>29.753</td>\n",
       "      <td>51.415</td>\n",
       "      <td>37.369</td>\n",
       "      <td>5.957</td>\n",
       "      <td>1.374.283</td>\n",
       "      <td>0.000</td>\n",
       "      <td>1.504.711</td>\n",
       "    </tr>\n",
       "    <tr>\n",
       "      <th>2</th>\n",
       "      <td>2024</td>\n",
       "      <td>1</td>\n",
       "      <td>Catamarca</td>\n",
       "      <td>71.000</td>\n",
       "      <td>176.000</td>\n",
       "      <td>2.872</td>\n",
       "      <td>3.424</td>\n",
       "      <td>4.204</td>\n",
       "      <td>1.822</td>\n",
       "      <td>62.294</td>\n",
       "      <td>70.000</td>\n",
       "      <td>74.933</td>\n",
       "    </tr>\n",
       "    <tr>\n",
       "      <th>3</th>\n",
       "      <td>2024</td>\n",
       "      <td>1</td>\n",
       "      <td>Chaco</td>\n",
       "      <td>236.000</td>\n",
       "      <td>416.000</td>\n",
       "      <td>14.156</td>\n",
       "      <td>9.044</td>\n",
       "      <td>5.533</td>\n",
       "      <td>5.718</td>\n",
       "      <td>116.624</td>\n",
       "      <td>3.816</td>\n",
       "      <td>155.543</td>\n",
       "    </tr>\n",
       "    <tr>\n",
       "      <th>4</th>\n",
       "      <td>2024</td>\n",
       "      <td>1</td>\n",
       "      <td>Chubut</td>\n",
       "      <td>111.000</td>\n",
       "      <td>1.083</td>\n",
       "      <td>43.828</td>\n",
       "      <td>31.885</td>\n",
       "      <td>23.024</td>\n",
       "      <td>20.261</td>\n",
       "      <td>33.844</td>\n",
       "      <td>16.640</td>\n",
       "      <td>170.676</td>\n",
       "    </tr>\n",
       "  </tbody>\n",
       "</table>\n",
       "</div>"
      ],
      "text/plain": [
       "    Año  Trimestre        Provincia  HASTA 512 kbps  + 512 Kbps - 1 Mbps  \\\n",
       "0  2024          1     Buenos Aires          26.002               22.510   \n",
       "1  2024          1  Capital Federal         516.000                5.418   \n",
       "2  2024          1        Catamarca          71.000              176.000   \n",
       "3  2024          1            Chaco         236.000              416.000   \n",
       "4  2024          1           Chubut         111.000                1.083   \n",
       "\n",
       "  + 1 Mbps - 6 Mbps  + 6 Mbps - 10 Mbps  + 10 Mbps - 20 Mbps  \\\n",
       "0           221.185             233.225              241.778   \n",
       "1            29.753              51.415               37.369   \n",
       "2             2.872               3.424                4.204   \n",
       "3            14.156               9.044                5.533   \n",
       "4            43.828              31.885               23.024   \n",
       "\n",
       "   + 20 Mbps - 30 Mbps  + 30 Mbps    OTROS      Total  \n",
       "0              106.418  4.068.292  125.147  5.044.557  \n",
       "1                5.957  1.374.283    0.000  1.504.711  \n",
       "2                1.822     62.294   70.000     74.933  \n",
       "3                5.718    116.624    3.816    155.543  \n",
       "4               20.261     33.844   16.640    170.676  "
      ]
     },
     "execution_count": 34,
     "metadata": {},
     "output_type": "execute_result"
    }
   ],
   "source": [
    "accesos_Provincia_Por_Velocidadsinnulos.head()"
   ]
  },
  {
   "cell_type": "markdown",
   "metadata": {},
   "source": [
    "Con el siguiente .describe() puedo ver datos como la media, la variacion estandar, los valores minimos y maximos y los cuartiles."
   ]
  },
  {
   "cell_type": "code",
   "execution_count": 35,
   "metadata": {},
   "outputs": [
    {
     "data": {
      "text/html": [
       "<div>\n",
       "<style scoped>\n",
       "    .dataframe tbody tr th:only-of-type {\n",
       "        vertical-align: middle;\n",
       "    }\n",
       "\n",
       "    .dataframe tbody tr th {\n",
       "        vertical-align: top;\n",
       "    }\n",
       "\n",
       "    .dataframe thead th {\n",
       "        text-align: right;\n",
       "    }\n",
       "</style>\n",
       "<table border=\"1\" class=\"dataframe\">\n",
       "  <thead>\n",
       "    <tr style=\"text-align: right;\">\n",
       "      <th></th>\n",
       "      <th>Año</th>\n",
       "      <th>Trimestre</th>\n",
       "      <th>HASTA 512 kbps</th>\n",
       "      <th>+ 512 Kbps - 1 Mbps</th>\n",
       "      <th>+ 6 Mbps - 10 Mbps</th>\n",
       "      <th>+ 10 Mbps - 20 Mbps</th>\n",
       "      <th>+ 20 Mbps - 30 Mbps</th>\n",
       "      <th>OTROS</th>\n",
       "    </tr>\n",
       "  </thead>\n",
       "  <tbody>\n",
       "    <tr>\n",
       "      <th>count</th>\n",
       "      <td>984.000000</td>\n",
       "      <td>984.000000</td>\n",
       "      <td>984.000000</td>\n",
       "      <td>984.000000</td>\n",
       "      <td>984.000000</td>\n",
       "      <td>984.000000</td>\n",
       "      <td>984.000000</td>\n",
       "      <td>984.000000</td>\n",
       "    </tr>\n",
       "    <tr>\n",
       "      <th>mean</th>\n",
       "      <td>2018.658537</td>\n",
       "      <td>2.463415</td>\n",
       "      <td>125.137505</td>\n",
       "      <td>113.846218</td>\n",
       "      <td>67.191319</td>\n",
       "      <td>72.670988</td>\n",
       "      <td>95.233803</td>\n",
       "      <td>42.640420</td>\n",
       "    </tr>\n",
       "    <tr>\n",
       "      <th>std</th>\n",
       "      <td>3.002418</td>\n",
       "      <td>1.128870</td>\n",
       "      <td>179.963132</td>\n",
       "      <td>226.362816</td>\n",
       "      <td>131.867857</td>\n",
       "      <td>159.612597</td>\n",
       "      <td>200.540263</td>\n",
       "      <td>151.249149</td>\n",
       "    </tr>\n",
       "    <tr>\n",
       "      <th>min</th>\n",
       "      <td>2014.000000</td>\n",
       "      <td>1.000000</td>\n",
       "      <td>1.007000</td>\n",
       "      <td>0.000000</td>\n",
       "      <td>0.000000</td>\n",
       "      <td>0.000000</td>\n",
       "      <td>0.000000</td>\n",
       "      <td>-1.945000</td>\n",
       "    </tr>\n",
       "    <tr>\n",
       "      <th>25%</th>\n",
       "      <td>2016.000000</td>\n",
       "      <td>1.000000</td>\n",
       "      <td>15.000000</td>\n",
       "      <td>3.034500</td>\n",
       "      <td>5.977000</td>\n",
       "      <td>5.485750</td>\n",
       "      <td>2.439500</td>\n",
       "      <td>0.000000</td>\n",
       "    </tr>\n",
       "    <tr>\n",
       "      <th>50%</th>\n",
       "      <td>2019.000000</td>\n",
       "      <td>2.000000</td>\n",
       "      <td>57.000000</td>\n",
       "      <td>8.307500</td>\n",
       "      <td>20.337000</td>\n",
       "      <td>15.400000</td>\n",
       "      <td>10.328000</td>\n",
       "      <td>1.604500</td>\n",
       "    </tr>\n",
       "    <tr>\n",
       "      <th>75%</th>\n",
       "      <td>2021.000000</td>\n",
       "      <td>3.000000</td>\n",
       "      <td>130.000000</td>\n",
       "      <td>97.000000</td>\n",
       "      <td>59.119250</td>\n",
       "      <td>42.565250</td>\n",
       "      <td>63.054000</td>\n",
       "      <td>10.479250</td>\n",
       "    </tr>\n",
       "    <tr>\n",
       "      <th>max</th>\n",
       "      <td>2024.000000</td>\n",
       "      <td>4.000000</td>\n",
       "      <td>998.000000</td>\n",
       "      <td>999.000000</td>\n",
       "      <td>917.000000</td>\n",
       "      <td>978.000000</td>\n",
       "      <td>997.000000</td>\n",
       "      <td>999.000000</td>\n",
       "    </tr>\n",
       "  </tbody>\n",
       "</table>\n",
       "</div>"
      ],
      "text/plain": [
       "               Año   Trimestre  HASTA 512 kbps  + 512 Kbps - 1 Mbps  \\\n",
       "count   984.000000  984.000000      984.000000           984.000000   \n",
       "mean   2018.658537    2.463415      125.137505           113.846218   \n",
       "std       3.002418    1.128870      179.963132           226.362816   \n",
       "min    2014.000000    1.000000        1.007000             0.000000   \n",
       "25%    2016.000000    1.000000       15.000000             3.034500   \n",
       "50%    2019.000000    2.000000       57.000000             8.307500   \n",
       "75%    2021.000000    3.000000      130.000000            97.000000   \n",
       "max    2024.000000    4.000000      998.000000           999.000000   \n",
       "\n",
       "       + 6 Mbps - 10 Mbps  + 10 Mbps - 20 Mbps  + 20 Mbps - 30 Mbps  \\\n",
       "count          984.000000           984.000000           984.000000   \n",
       "mean            67.191319            72.670988            95.233803   \n",
       "std            131.867857           159.612597           200.540263   \n",
       "min              0.000000             0.000000             0.000000   \n",
       "25%              5.977000             5.485750             2.439500   \n",
       "50%             20.337000            15.400000            10.328000   \n",
       "75%             59.119250            42.565250            63.054000   \n",
       "max            917.000000           978.000000           997.000000   \n",
       "\n",
       "            OTROS  \n",
       "count  984.000000  \n",
       "mean    42.640420  \n",
       "std    151.249149  \n",
       "min     -1.945000  \n",
       "25%      0.000000  \n",
       "50%      1.604500  \n",
       "75%     10.479250  \n",
       "max    999.000000  "
      ]
     },
     "execution_count": 35,
     "metadata": {},
     "output_type": "execute_result"
    }
   ],
   "source": [
    "accesos_Provincia_Por_Velocidadsinnulos.describe()"
   ]
  },
  {
   "cell_type": "code",
   "execution_count": 36,
   "metadata": {},
   "outputs": [
    {
     "name": "stdout",
     "output_type": "stream",
     "text": [
      "<class 'pandas.core.frame.DataFrame'>\n",
      "RangeIndex: 984 entries, 0 to 983\n",
      "Data columns (total 12 columns):\n",
      " #   Column               Non-Null Count  Dtype  \n",
      "---  ------               --------------  -----  \n",
      " 0   Año                  984 non-null    int64  \n",
      " 1   Trimestre            984 non-null    int64  \n",
      " 2   Provincia            984 non-null    object \n",
      " 3   HASTA 512 kbps       984 non-null    float64\n",
      " 4   + 512 Kbps - 1 Mbps  984 non-null    float64\n",
      " 5   + 1 Mbps - 6 Mbps    984 non-null    object \n",
      " 6   + 6 Mbps - 10 Mbps   984 non-null    float64\n",
      " 7   + 10 Mbps - 20 Mbps  984 non-null    float64\n",
      " 8   + 20 Mbps - 30 Mbps  984 non-null    float64\n",
      " 9   + 30 Mbps            984 non-null    object \n",
      " 10  OTROS                984 non-null    float64\n",
      " 11  Total                984 non-null    object \n",
      "dtypes: float64(6), int64(2), object(4)\n",
      "memory usage: 92.4+ KB\n"
     ]
    }
   ],
   "source": [
    "accesos_Provincia_Por_Velocidadsinnulos.info()"
   ]
  },
  {
   "cell_type": "markdown",
   "metadata": {},
   "source": [
    "Paso el csv limpio de accesos_Provincia_Por_Velocidad a un archivo .csv"
   ]
  },
  {
   "cell_type": "code",
   "execution_count": 37,
   "metadata": {},
   "outputs": [],
   "source": [
    "accesos_Provincia_Por_Velocidadsinnulos.to_csv('accesos_Provincia_Por_Velocidad_Limpio.csv', index=False)"
   ]
  },
  {
   "cell_type": "markdown",
   "metadata": {},
   "source": [
    "----"
   ]
  },
  {
   "cell_type": "markdown",
   "metadata": {},
   "source": [
    "## 2. Análisis de totalesarg_Accesos_Por_Velocidad"
   ]
  },
  {
   "cell_type": "markdown",
   "metadata": {},
   "source": [
    "Repito el mismo proceso hecho anteriormente ahora con el siguiente dataframe"
   ]
  },
  {
   "cell_type": "code",
   "execution_count": 38,
   "metadata": {},
   "outputs": [
    {
     "data": {
      "text/html": [
       "<div>\n",
       "<style scoped>\n",
       "    .dataframe tbody tr th:only-of-type {\n",
       "        vertical-align: middle;\n",
       "    }\n",
       "\n",
       "    .dataframe tbody tr th {\n",
       "        vertical-align: top;\n",
       "    }\n",
       "\n",
       "    .dataframe thead th {\n",
       "        text-align: right;\n",
       "    }\n",
       "</style>\n",
       "<table border=\"1\" class=\"dataframe\">\n",
       "  <thead>\n",
       "    <tr style=\"text-align: right;\">\n",
       "      <th></th>\n",
       "      <th>Año</th>\n",
       "      <th>Trimestre</th>\n",
       "      <th>Hasta 512 kbps</th>\n",
       "      <th>Entre 512 Kbps y 1 Mbps</th>\n",
       "      <th>Entre 1 Mbps y 6 Mbps</th>\n",
       "      <th>Entre 6 Mbps y 10 Mbps</th>\n",
       "      <th>Entre 10 Mbps y 20 Mbps</th>\n",
       "      <th>Entre 20 Mbps y 30 Mbps</th>\n",
       "      <th>Más de 30 Mbps</th>\n",
       "      <th>OTROS</th>\n",
       "      <th>Total</th>\n",
       "    </tr>\n",
       "  </thead>\n",
       "  <tbody>\n",
       "    <tr>\n",
       "      <th>0</th>\n",
       "      <td>2024</td>\n",
       "      <td>1</td>\n",
       "      <td>28.801</td>\n",
       "      <td>69.355</td>\n",
       "      <td>866.152</td>\n",
       "      <td>950.930</td>\n",
       "      <td>672.155</td>\n",
       "      <td>353.896</td>\n",
       "      <td>8.363.694</td>\n",
       "      <td>328.173</td>\n",
       "      <td>11.633.156</td>\n",
       "    </tr>\n",
       "    <tr>\n",
       "      <th>1</th>\n",
       "      <td>2023</td>\n",
       "      <td>4</td>\n",
       "      <td>29.708</td>\n",
       "      <td>71.742</td>\n",
       "      <td>900.253</td>\n",
       "      <td>978.108</td>\n",
       "      <td>697.232</td>\n",
       "      <td>350.290</td>\n",
       "      <td>8.224.736</td>\n",
       "      <td>295.592</td>\n",
       "      <td>11.547.661</td>\n",
       "    </tr>\n",
       "    <tr>\n",
       "      <th>2</th>\n",
       "      <td>2023</td>\n",
       "      <td>3</td>\n",
       "      <td>30.274</td>\n",
       "      <td>80.609</td>\n",
       "      <td>945.608</td>\n",
       "      <td>998.725</td>\n",
       "      <td>720.084</td>\n",
       "      <td>350.918</td>\n",
       "      <td>8.003.269</td>\n",
       "      <td>277.421</td>\n",
       "      <td>11.406.908</td>\n",
       "    </tr>\n",
       "    <tr>\n",
       "      <th>3</th>\n",
       "      <td>2023</td>\n",
       "      <td>2</td>\n",
       "      <td>30.827</td>\n",
       "      <td>79.405</td>\n",
       "      <td>963.510</td>\n",
       "      <td>1.028.250</td>\n",
       "      <td>734.125</td>\n",
       "      <td>364.730</td>\n",
       "      <td>7.775.095</td>\n",
       "      <td>275.955</td>\n",
       "      <td>11.251.897</td>\n",
       "    </tr>\n",
       "    <tr>\n",
       "      <th>4</th>\n",
       "      <td>2023</td>\n",
       "      <td>1</td>\n",
       "      <td>31.437</td>\n",
       "      <td>82.048</td>\n",
       "      <td>1.001.553</td>\n",
       "      <td>1.060.321</td>\n",
       "      <td>729.194</td>\n",
       "      <td>357.769</td>\n",
       "      <td>7.564.819</td>\n",
       "      <td>414.754</td>\n",
       "      <td>11.241.895</td>\n",
       "    </tr>\n",
       "  </tbody>\n",
       "</table>\n",
       "</div>"
      ],
      "text/plain": [
       "    Año  Trimestre  Hasta 512 kbps  Entre 512 Kbps y 1 Mbps  \\\n",
       "0  2024          1          28.801                   69.355   \n",
       "1  2023          4          29.708                   71.742   \n",
       "2  2023          3          30.274                   80.609   \n",
       "3  2023          2          30.827                   79.405   \n",
       "4  2023          1          31.437                   82.048   \n",
       "\n",
       "  Entre 1 Mbps y 6 Mbps Entre 6 Mbps y 10 Mbps Entre 10 Mbps y 20 Mbps  \\\n",
       "0               866.152                950.930                 672.155   \n",
       "1               900.253                978.108                 697.232   \n",
       "2               945.608                998.725                 720.084   \n",
       "3               963.510              1.028.250                 734.125   \n",
       "4             1.001.553              1.060.321                 729.194   \n",
       "\n",
       "  Entre 20 Mbps y 30 Mbps Más de 30 Mbps    OTROS       Total  \n",
       "0                 353.896      8.363.694  328.173  11.633.156  \n",
       "1                 350.290      8.224.736  295.592  11.547.661  \n",
       "2                 350.918      8.003.269  277.421  11.406.908  \n",
       "3                 364.730      7.775.095  275.955  11.251.897  \n",
       "4                 357.769      7.564.819  414.754  11.241.895  "
      ]
     },
     "execution_count": 38,
     "metadata": {},
     "output_type": "execute_result"
    }
   ],
   "source": [
    "totalesarg_Accesos_Por_Velocidad.head()"
   ]
  },
  {
   "cell_type": "markdown",
   "metadata": {},
   "source": [
    "Con el .info() me doy cuenta de que todas las filas tienen datos que no son nulos, por lo cual decido no transformar este dataset."
   ]
  },
  {
   "cell_type": "code",
   "execution_count": 39,
   "metadata": {},
   "outputs": [
    {
     "name": "stdout",
     "output_type": "stream",
     "text": [
      "<class 'pandas.core.frame.DataFrame'>\n",
      "RangeIndex: 41 entries, 0 to 40\n",
      "Data columns (total 11 columns):\n",
      " #   Column                   Non-Null Count  Dtype  \n",
      "---  ------                   --------------  -----  \n",
      " 0   Año                      41 non-null     int64  \n",
      " 1   Trimestre                41 non-null     int64  \n",
      " 2   Hasta 512 kbps           41 non-null     float64\n",
      " 3   Entre 512 Kbps y 1 Mbps  41 non-null     float64\n",
      " 4   Entre 1 Mbps y 6 Mbps    41 non-null     object \n",
      " 5   Entre 6 Mbps y 10 Mbps   41 non-null     object \n",
      " 6   Entre 10 Mbps y 20 Mbps  41 non-null     object \n",
      " 7   Entre 20 Mbps y 30 Mbps  41 non-null     object \n",
      " 8   Más de 30 Mbps           41 non-null     object \n",
      " 9   OTROS                    41 non-null     float64\n",
      " 10  Total                    41 non-null     object \n",
      "dtypes: float64(3), int64(2), object(6)\n",
      "memory usage: 3.7+ KB\n"
     ]
    }
   ],
   "source": [
    "totalesarg_Accesos_Por_Velocidad.info()"
   ]
  },
  {
   "cell_type": "markdown",
   "metadata": {},
   "source": [
    "No hay nulos"
   ]
  },
  {
   "cell_type": "code",
   "execution_count": 40,
   "metadata": {},
   "outputs": [
    {
     "data": {
      "text/html": [
       "<div>\n",
       "<style scoped>\n",
       "    .dataframe tbody tr th:only-of-type {\n",
       "        vertical-align: middle;\n",
       "    }\n",
       "\n",
       "    .dataframe tbody tr th {\n",
       "        vertical-align: top;\n",
       "    }\n",
       "\n",
       "    .dataframe thead th {\n",
       "        text-align: right;\n",
       "    }\n",
       "</style>\n",
       "<table border=\"1\" class=\"dataframe\">\n",
       "  <thead>\n",
       "    <tr style=\"text-align: right;\">\n",
       "      <th></th>\n",
       "      <th>Año</th>\n",
       "      <th>Trimestre</th>\n",
       "      <th>Hasta 512 kbps</th>\n",
       "      <th>Entre 512 Kbps y 1 Mbps</th>\n",
       "      <th>OTROS</th>\n",
       "    </tr>\n",
       "  </thead>\n",
       "  <tbody>\n",
       "    <tr>\n",
       "      <th>count</th>\n",
       "      <td>41.000000</td>\n",
       "      <td>41.000000</td>\n",
       "      <td>41.000000</td>\n",
       "      <td>41.000000</td>\n",
       "      <td>41.000000</td>\n",
       "    </tr>\n",
       "    <tr>\n",
       "      <th>mean</th>\n",
       "      <td>2018.634146</td>\n",
       "      <td>2.463415</td>\n",
       "      <td>47.210390</td>\n",
       "      <td>219.239463</td>\n",
       "      <td>149.513098</td>\n",
       "    </tr>\n",
       "    <tr>\n",
       "      <th>std</th>\n",
       "      <td>2.997967</td>\n",
       "      <td>1.142313</td>\n",
       "      <td>49.441162</td>\n",
       "      <td>193.062661</td>\n",
       "      <td>130.707129</td>\n",
       "    </tr>\n",
       "    <tr>\n",
       "      <th>min</th>\n",
       "      <td>2014.000000</td>\n",
       "      <td>1.000000</td>\n",
       "      <td>5.675000</td>\n",
       "      <td>28.521000</td>\n",
       "      <td>0.000000</td>\n",
       "    </tr>\n",
       "    <tr>\n",
       "      <th>25%</th>\n",
       "      <td>2016.000000</td>\n",
       "      <td>1.000000</td>\n",
       "      <td>29.708000</td>\n",
       "      <td>71.742000</td>\n",
       "      <td>0.000000</td>\n",
       "    </tr>\n",
       "    <tr>\n",
       "      <th>50%</th>\n",
       "      <td>2019.000000</td>\n",
       "      <td>2.000000</td>\n",
       "      <td>35.030000</td>\n",
       "      <td>195.706000</td>\n",
       "      <td>167.369000</td>\n",
       "    </tr>\n",
       "    <tr>\n",
       "      <th>75%</th>\n",
       "      <td>2021.000000</td>\n",
       "      <td>3.000000</td>\n",
       "      <td>41.064000</td>\n",
       "      <td>294.413000</td>\n",
       "      <td>238.455000</td>\n",
       "    </tr>\n",
       "    <tr>\n",
       "      <th>max</th>\n",
       "      <td>2024.000000</td>\n",
       "      <td>4.000000</td>\n",
       "      <td>241.713000</td>\n",
       "      <td>687.619000</td>\n",
       "      <td>414.754000</td>\n",
       "    </tr>\n",
       "  </tbody>\n",
       "</table>\n",
       "</div>"
      ],
      "text/plain": [
       "               Año  Trimestre  Hasta 512 kbps  Entre 512 Kbps y 1 Mbps  \\\n",
       "count    41.000000  41.000000       41.000000                41.000000   \n",
       "mean   2018.634146   2.463415       47.210390               219.239463   \n",
       "std       2.997967   1.142313       49.441162               193.062661   \n",
       "min    2014.000000   1.000000        5.675000                28.521000   \n",
       "25%    2016.000000   1.000000       29.708000                71.742000   \n",
       "50%    2019.000000   2.000000       35.030000               195.706000   \n",
       "75%    2021.000000   3.000000       41.064000               294.413000   \n",
       "max    2024.000000   4.000000      241.713000               687.619000   \n",
       "\n",
       "            OTROS  \n",
       "count   41.000000  \n",
       "mean   149.513098  \n",
       "std    130.707129  \n",
       "min      0.000000  \n",
       "25%      0.000000  \n",
       "50%    167.369000  \n",
       "75%    238.455000  \n",
       "max    414.754000  "
      ]
     },
     "execution_count": 40,
     "metadata": {},
     "output_type": "execute_result"
    }
   ],
   "source": [
    "totalesarg_Accesos_Por_Velocidad.describe()"
   ]
  },
  {
   "cell_type": "markdown",
   "metadata": {},
   "source": [
    "----"
   ]
  },
  {
   "cell_type": "markdown",
   "metadata": {},
   "source": [
    "## 3. Análisis de velocidad_Total_Por_Provincia"
   ]
  },
  {
   "cell_type": "markdown",
   "metadata": {},
   "source": [
    "Reviso de que trata el dataframe, veo que tengo datos categoricos y numericos"
   ]
  },
  {
   "cell_type": "code",
   "execution_count": 41,
   "metadata": {},
   "outputs": [
    {
     "data": {
      "text/html": [
       "<div>\n",
       "<style scoped>\n",
       "    .dataframe tbody tr th:only-of-type {\n",
       "        vertical-align: middle;\n",
       "    }\n",
       "\n",
       "    .dataframe tbody tr th {\n",
       "        vertical-align: top;\n",
       "    }\n",
       "\n",
       "    .dataframe thead th {\n",
       "        text-align: right;\n",
       "    }\n",
       "</style>\n",
       "<table border=\"1\" class=\"dataframe\">\n",
       "  <thead>\n",
       "    <tr style=\"text-align: right;\">\n",
       "      <th></th>\n",
       "      <th>Año</th>\n",
       "      <th>Trimestre</th>\n",
       "      <th>Provincia</th>\n",
       "      <th>Mbps (Media de bajada)</th>\n",
       "    </tr>\n",
       "  </thead>\n",
       "  <tbody>\n",
       "    <tr>\n",
       "      <th>0</th>\n",
       "      <td>2024</td>\n",
       "      <td>1</td>\n",
       "      <td>Buenos Aires</td>\n",
       "      <td>159,13</td>\n",
       "    </tr>\n",
       "    <tr>\n",
       "      <th>1</th>\n",
       "      <td>2024</td>\n",
       "      <td>1</td>\n",
       "      <td>Capital Federal</td>\n",
       "      <td>229,94</td>\n",
       "    </tr>\n",
       "    <tr>\n",
       "      <th>2</th>\n",
       "      <td>2024</td>\n",
       "      <td>1</td>\n",
       "      <td>Catamarca</td>\n",
       "      <td>91,45</td>\n",
       "    </tr>\n",
       "    <tr>\n",
       "      <th>3</th>\n",
       "      <td>2024</td>\n",
       "      <td>1</td>\n",
       "      <td>Chaco</td>\n",
       "      <td>107,51</td>\n",
       "    </tr>\n",
       "    <tr>\n",
       "      <th>4</th>\n",
       "      <td>2024</td>\n",
       "      <td>1</td>\n",
       "      <td>Chubut</td>\n",
       "      <td>20,50</td>\n",
       "    </tr>\n",
       "  </tbody>\n",
       "</table>\n",
       "</div>"
      ],
      "text/plain": [
       "    Año  Trimestre        Provincia Mbps (Media de bajada)\n",
       "0  2024          1     Buenos Aires                 159,13\n",
       "1  2024          1  Capital Federal                 229,94\n",
       "2  2024          1        Catamarca                  91,45\n",
       "3  2024          1            Chaco                 107,51\n",
       "4  2024          1           Chubut                  20,50"
      ]
     },
     "execution_count": 41,
     "metadata": {},
     "output_type": "execute_result"
    }
   ],
   "source": [
    "velocidad_Total_Por_Provincia.head()"
   ]
  },
  {
   "cell_type": "markdown",
   "metadata": {},
   "source": [
    "Veo que no hay nulos asi que no transformo los datos, se los tipos de datos que tengo, tanto objetos como integers, la cantidad de filas(984) y la cantidad de columnas(4)"
   ]
  },
  {
   "cell_type": "code",
   "execution_count": 42,
   "metadata": {},
   "outputs": [
    {
     "name": "stdout",
     "output_type": "stream",
     "text": [
      "<class 'pandas.core.frame.DataFrame'>\n",
      "RangeIndex: 984 entries, 0 to 983\n",
      "Data columns (total 4 columns):\n",
      " #   Column                  Non-Null Count  Dtype \n",
      "---  ------                  --------------  ----- \n",
      " 0   Año                     984 non-null    int64 \n",
      " 1   Trimestre               984 non-null    int64 \n",
      " 2   Provincia               984 non-null    object\n",
      " 3   Mbps (Media de bajada)  984 non-null    object\n",
      "dtypes: int64(2), object(2)\n",
      "memory usage: 30.9+ KB\n"
     ]
    }
   ],
   "source": [
    "velocidad_Total_Por_Provincia.info()"
   ]
  },
  {
   "cell_type": "code",
   "execution_count": 43,
   "metadata": {},
   "outputs": [
    {
     "data": {
      "text/html": [
       "<div>\n",
       "<style scoped>\n",
       "    .dataframe tbody tr th:only-of-type {\n",
       "        vertical-align: middle;\n",
       "    }\n",
       "\n",
       "    .dataframe tbody tr th {\n",
       "        vertical-align: top;\n",
       "    }\n",
       "\n",
       "    .dataframe thead th {\n",
       "        text-align: right;\n",
       "    }\n",
       "</style>\n",
       "<table border=\"1\" class=\"dataframe\">\n",
       "  <thead>\n",
       "    <tr style=\"text-align: right;\">\n",
       "      <th></th>\n",
       "      <th>Año</th>\n",
       "      <th>Trimestre</th>\n",
       "    </tr>\n",
       "  </thead>\n",
       "  <tbody>\n",
       "    <tr>\n",
       "      <th>count</th>\n",
       "      <td>984.000000</td>\n",
       "      <td>984.000000</td>\n",
       "    </tr>\n",
       "    <tr>\n",
       "      <th>mean</th>\n",
       "      <td>2018.634146</td>\n",
       "      <td>2.463415</td>\n",
       "    </tr>\n",
       "    <tr>\n",
       "      <th>std</th>\n",
       "      <td>2.962686</td>\n",
       "      <td>1.128870</td>\n",
       "    </tr>\n",
       "    <tr>\n",
       "      <th>min</th>\n",
       "      <td>2014.000000</td>\n",
       "      <td>1.000000</td>\n",
       "    </tr>\n",
       "    <tr>\n",
       "      <th>25%</th>\n",
       "      <td>2016.000000</td>\n",
       "      <td>1.000000</td>\n",
       "    </tr>\n",
       "    <tr>\n",
       "      <th>50%</th>\n",
       "      <td>2019.000000</td>\n",
       "      <td>2.000000</td>\n",
       "    </tr>\n",
       "    <tr>\n",
       "      <th>75%</th>\n",
       "      <td>2021.000000</td>\n",
       "      <td>3.000000</td>\n",
       "    </tr>\n",
       "    <tr>\n",
       "      <th>max</th>\n",
       "      <td>2024.000000</td>\n",
       "      <td>4.000000</td>\n",
       "    </tr>\n",
       "  </tbody>\n",
       "</table>\n",
       "</div>"
      ],
      "text/plain": [
       "               Año   Trimestre\n",
       "count   984.000000  984.000000\n",
       "mean   2018.634146    2.463415\n",
       "std       2.962686    1.128870\n",
       "min    2014.000000    1.000000\n",
       "25%    2016.000000    1.000000\n",
       "50%    2019.000000    2.000000\n",
       "75%    2021.000000    3.000000\n",
       "max    2024.000000    4.000000"
      ]
     },
     "execution_count": 43,
     "metadata": {},
     "output_type": "execute_result"
    }
   ],
   "source": [
    "velocidad_Total_Por_Provincia.describe()"
   ]
  },
  {
   "cell_type": "markdown",
   "metadata": {},
   "source": [
    "---"
   ]
  },
  {
   "cell_type": "markdown",
   "metadata": {},
   "source": [
    "## 4. Análisis de internet_IngresosTotalesxTrimestre"
   ]
  },
  {
   "cell_type": "code",
   "execution_count": 44,
   "metadata": {},
   "outputs": [
    {
     "data": {
      "text/html": [
       "<div>\n",
       "<style scoped>\n",
       "    .dataframe tbody tr th:only-of-type {\n",
       "        vertical-align: middle;\n",
       "    }\n",
       "\n",
       "    .dataframe tbody tr th {\n",
       "        vertical-align: top;\n",
       "    }\n",
       "\n",
       "    .dataframe thead th {\n",
       "        text-align: right;\n",
       "    }\n",
       "</style>\n",
       "<table border=\"1\" class=\"dataframe\">\n",
       "  <thead>\n",
       "    <tr style=\"text-align: right;\">\n",
       "      <th></th>\n",
       "      <th>Año</th>\n",
       "      <th>Trimestre</th>\n",
       "      <th>Ingresos (miles de pesos)</th>\n",
       "      <th>Periodo</th>\n",
       "    </tr>\n",
       "  </thead>\n",
       "  <tbody>\n",
       "    <tr>\n",
       "      <th>0</th>\n",
       "      <td>2024</td>\n",
       "      <td>1</td>\n",
       "      <td>280.419.124,08</td>\n",
       "      <td>Ene-Mar 2024</td>\n",
       "    </tr>\n",
       "    <tr>\n",
       "      <th>1</th>\n",
       "      <td>2023</td>\n",
       "      <td>4</td>\n",
       "      <td>167.376.014,80</td>\n",
       "      <td>Oct-Dic 2023</td>\n",
       "    </tr>\n",
       "    <tr>\n",
       "      <th>2</th>\n",
       "      <td>2023</td>\n",
       "      <td>3</td>\n",
       "      <td>133.106.593,41</td>\n",
       "      <td>Jul-Sept 2023</td>\n",
       "    </tr>\n",
       "    <tr>\n",
       "      <th>3</th>\n",
       "      <td>2023</td>\n",
       "      <td>2</td>\n",
       "      <td>118.060.280,28</td>\n",
       "      <td>Jun-Mar 2023</td>\n",
       "    </tr>\n",
       "    <tr>\n",
       "      <th>4</th>\n",
       "      <td>2033</td>\n",
       "      <td>1</td>\n",
       "      <td>104.134.992,81</td>\n",
       "      <td>Ene-Mar 2023</td>\n",
       "    </tr>\n",
       "  </tbody>\n",
       "</table>\n",
       "</div>"
      ],
      "text/plain": [
       "    Año   Trimestre  Ingresos (miles de pesos)         Periodo \n",
       "0  2024            1           280.419.124,08     Ene-Mar 2024 \n",
       "1  2023            4           167.376.014,80     Oct-Dic 2023 \n",
       "2  2023            3           133.106.593,41    Jul-Sept 2023 \n",
       "3  2023            2           118.060.280,28     Jun-Mar 2023 \n",
       "4  2033            1           104.134.992,81     Ene-Mar 2023 "
      ]
     },
     "execution_count": 44,
     "metadata": {},
     "output_type": "execute_result"
    }
   ],
   "source": [
    "internet_IngresosTotalesxTrimestre.head()"
   ]
  },
  {
   "cell_type": "code",
   "execution_count": 45,
   "metadata": {},
   "outputs": [
    {
     "name": "stdout",
     "output_type": "stream",
     "text": [
      "<class 'pandas.core.frame.DataFrame'>\n",
      "RangeIndex: 41 entries, 0 to 40\n",
      "Data columns (total 4 columns):\n",
      " #   Column                     Non-Null Count  Dtype \n",
      "---  ------                     --------------  ----- \n",
      " 0   Año                        41 non-null     int64 \n",
      " 1    Trimestre                 41 non-null     int64 \n",
      " 2   Ingresos (miles de pesos)  41 non-null     object\n",
      " 3    Periodo                   41 non-null     object\n",
      "dtypes: int64(2), object(2)\n",
      "memory usage: 1.4+ KB\n"
     ]
    }
   ],
   "source": [
    "internet_IngresosTotalesxTrimestre.info()"
   ]
  },
  {
   "cell_type": "code",
   "execution_count": 46,
   "metadata": {},
   "outputs": [
    {
     "data": {
      "text/html": [
       "<div>\n",
       "<style scoped>\n",
       "    .dataframe tbody tr th:only-of-type {\n",
       "        vertical-align: middle;\n",
       "    }\n",
       "\n",
       "    .dataframe tbody tr th {\n",
       "        vertical-align: top;\n",
       "    }\n",
       "\n",
       "    .dataframe thead th {\n",
       "        text-align: right;\n",
       "    }\n",
       "</style>\n",
       "<table border=\"1\" class=\"dataframe\">\n",
       "  <thead>\n",
       "    <tr style=\"text-align: right;\">\n",
       "      <th></th>\n",
       "      <th>Año</th>\n",
       "      <th>Trimestre</th>\n",
       "    </tr>\n",
       "  </thead>\n",
       "  <tbody>\n",
       "    <tr>\n",
       "      <th>count</th>\n",
       "      <td>41.000000</td>\n",
       "      <td>41.000000</td>\n",
       "    </tr>\n",
       "    <tr>\n",
       "      <th>mean</th>\n",
       "      <td>2018.878049</td>\n",
       "      <td>2.463415</td>\n",
       "    </tr>\n",
       "    <tr>\n",
       "      <th>std</th>\n",
       "      <td>3.689140</td>\n",
       "      <td>1.142313</td>\n",
       "    </tr>\n",
       "    <tr>\n",
       "      <th>min</th>\n",
       "      <td>2014.000000</td>\n",
       "      <td>1.000000</td>\n",
       "    </tr>\n",
       "    <tr>\n",
       "      <th>25%</th>\n",
       "      <td>2016.000000</td>\n",
       "      <td>1.000000</td>\n",
       "    </tr>\n",
       "    <tr>\n",
       "      <th>50%</th>\n",
       "      <td>2019.000000</td>\n",
       "      <td>2.000000</td>\n",
       "    </tr>\n",
       "    <tr>\n",
       "      <th>75%</th>\n",
       "      <td>2021.000000</td>\n",
       "      <td>3.000000</td>\n",
       "    </tr>\n",
       "    <tr>\n",
       "      <th>max</th>\n",
       "      <td>2033.000000</td>\n",
       "      <td>4.000000</td>\n",
       "    </tr>\n",
       "  </tbody>\n",
       "</table>\n",
       "</div>"
      ],
      "text/plain": [
       "               Año   Trimestre \n",
       "count    41.000000    41.000000\n",
       "mean   2018.878049     2.463415\n",
       "std       3.689140     1.142313\n",
       "min    2014.000000     1.000000\n",
       "25%    2016.000000     1.000000\n",
       "50%    2019.000000     2.000000\n",
       "75%    2021.000000     3.000000\n",
       "max    2033.000000     4.000000"
      ]
     },
     "execution_count": 46,
     "metadata": {},
     "output_type": "execute_result"
    }
   ],
   "source": [
    "internet_IngresosTotalesxTrimestre.describe()"
   ]
  },
  {
   "cell_type": "markdown",
   "metadata": {},
   "source": [
    "---"
   ]
  },
  {
   "cell_type": "markdown",
   "metadata": {},
   "source": [
    "## 5. Análisis de penetracion_Hogares"
   ]
  },
  {
   "cell_type": "code",
   "execution_count": 47,
   "metadata": {},
   "outputs": [
    {
     "data": {
      "text/html": [
       "<div>\n",
       "<style scoped>\n",
       "    .dataframe tbody tr th:only-of-type {\n",
       "        vertical-align: middle;\n",
       "    }\n",
       "\n",
       "    .dataframe tbody tr th {\n",
       "        vertical-align: top;\n",
       "    }\n",
       "\n",
       "    .dataframe thead th {\n",
       "        text-align: right;\n",
       "    }\n",
       "</style>\n",
       "<table border=\"1\" class=\"dataframe\">\n",
       "  <thead>\n",
       "    <tr style=\"text-align: right;\">\n",
       "      <th></th>\n",
       "      <th>Año</th>\n",
       "      <th>Trimestre</th>\n",
       "      <th>Provincia</th>\n",
       "      <th>Accesos por cada 100 hogares</th>\n",
       "    </tr>\n",
       "  </thead>\n",
       "  <tbody>\n",
       "    <tr>\n",
       "      <th>0</th>\n",
       "      <td>2024</td>\n",
       "      <td>1</td>\n",
       "      <td>Buenos Aires</td>\n",
       "      <td>81,10</td>\n",
       "    </tr>\n",
       "    <tr>\n",
       "      <th>1</th>\n",
       "      <td>2024</td>\n",
       "      <td>1</td>\n",
       "      <td>Capital Federal</td>\n",
       "      <td>119,53</td>\n",
       "    </tr>\n",
       "    <tr>\n",
       "      <th>2</th>\n",
       "      <td>2024</td>\n",
       "      <td>1</td>\n",
       "      <td>Catamarca</td>\n",
       "      <td>68,82</td>\n",
       "    </tr>\n",
       "    <tr>\n",
       "      <th>3</th>\n",
       "      <td>2024</td>\n",
       "      <td>1</td>\n",
       "      <td>Chaco</td>\n",
       "      <td>46,70</td>\n",
       "    </tr>\n",
       "    <tr>\n",
       "      <th>4</th>\n",
       "      <td>2024</td>\n",
       "      <td>1</td>\n",
       "      <td>Chubut</td>\n",
       "      <td>84,89</td>\n",
       "    </tr>\n",
       "  </tbody>\n",
       "</table>\n",
       "</div>"
      ],
      "text/plain": [
       "    Año   Trimestre          Provincia  Accesos por cada 100 hogares\n",
       "0  2024            1      Buenos Aires                        81,10 \n",
       "1  2024            1   Capital Federal                       119,53 \n",
       "2  2024            1         Catamarca                        68,82 \n",
       "3  2024            1             Chaco                        46,70 \n",
       "4  2024            1            Chubut                        84,89 "
      ]
     },
     "execution_count": 47,
     "metadata": {},
     "output_type": "execute_result"
    }
   ],
   "source": [
    "penetracion_Hogares.head()"
   ]
  },
  {
   "cell_type": "code",
   "execution_count": 48,
   "metadata": {},
   "outputs": [
    {
     "name": "stdout",
     "output_type": "stream",
     "text": [
      "<class 'pandas.core.frame.DataFrame'>\n",
      "RangeIndex: 984 entries, 0 to 983\n",
      "Data columns (total 4 columns):\n",
      " #   Column                        Non-Null Count  Dtype \n",
      "---  ------                        --------------  ----- \n",
      " 0   Año                           984 non-null    int64 \n",
      " 1    Trimestre                    984 non-null    int64 \n",
      " 2    Provincia                    984 non-null    object\n",
      " 3   Accesos por cada 100 hogares  984 non-null    object\n",
      "dtypes: int64(2), object(2)\n",
      "memory usage: 30.9+ KB\n"
     ]
    }
   ],
   "source": [
    "penetracion_Hogares.info()"
   ]
  },
  {
   "cell_type": "code",
   "execution_count": 49,
   "metadata": {},
   "outputs": [
    {
     "data": {
      "text/html": [
       "<div>\n",
       "<style scoped>\n",
       "    .dataframe tbody tr th:only-of-type {\n",
       "        vertical-align: middle;\n",
       "    }\n",
       "\n",
       "    .dataframe tbody tr th {\n",
       "        vertical-align: top;\n",
       "    }\n",
       "\n",
       "    .dataframe thead th {\n",
       "        text-align: right;\n",
       "    }\n",
       "</style>\n",
       "<table border=\"1\" class=\"dataframe\">\n",
       "  <thead>\n",
       "    <tr style=\"text-align: right;\">\n",
       "      <th></th>\n",
       "      <th>Año</th>\n",
       "      <th>Trimestre</th>\n",
       "    </tr>\n",
       "  </thead>\n",
       "  <tbody>\n",
       "    <tr>\n",
       "      <th>count</th>\n",
       "      <td>984.000000</td>\n",
       "      <td>984.000000</td>\n",
       "    </tr>\n",
       "    <tr>\n",
       "      <th>mean</th>\n",
       "      <td>2018.634146</td>\n",
       "      <td>2.463415</td>\n",
       "    </tr>\n",
       "    <tr>\n",
       "      <th>std</th>\n",
       "      <td>2.962686</td>\n",
       "      <td>1.128870</td>\n",
       "    </tr>\n",
       "    <tr>\n",
       "      <th>min</th>\n",
       "      <td>2014.000000</td>\n",
       "      <td>1.000000</td>\n",
       "    </tr>\n",
       "    <tr>\n",
       "      <th>25%</th>\n",
       "      <td>2016.000000</td>\n",
       "      <td>1.000000</td>\n",
       "    </tr>\n",
       "    <tr>\n",
       "      <th>50%</th>\n",
       "      <td>2019.000000</td>\n",
       "      <td>2.000000</td>\n",
       "    </tr>\n",
       "    <tr>\n",
       "      <th>75%</th>\n",
       "      <td>2021.000000</td>\n",
       "      <td>3.000000</td>\n",
       "    </tr>\n",
       "    <tr>\n",
       "      <th>max</th>\n",
       "      <td>2024.000000</td>\n",
       "      <td>4.000000</td>\n",
       "    </tr>\n",
       "  </tbody>\n",
       "</table>\n",
       "</div>"
      ],
      "text/plain": [
       "               Año   Trimestre \n",
       "count   984.000000   984.000000\n",
       "mean   2018.634146     2.463415\n",
       "std       2.962686     1.128870\n",
       "min    2014.000000     1.000000\n",
       "25%    2016.000000     1.000000\n",
       "50%    2019.000000     2.000000\n",
       "75%    2021.000000     3.000000\n",
       "max    2024.000000     4.000000"
      ]
     },
     "execution_count": 49,
     "metadata": {},
     "output_type": "execute_result"
    }
   ],
   "source": [
    "penetracion_Hogares.describe()"
   ]
  },
  {
   "cell_type": "markdown",
   "metadata": {},
   "source": [
    "Para poder hacer el primer KPI, una buena idea era unir las columas año y trimestre, asi que primero renombre la columna 'Trimestre' porque me daba error, luego las junte y las hice un csv para poder trabajar despues en power bi"
   ]
  },
  {
   "cell_type": "code",
   "execution_count": 54,
   "metadata": {},
   "outputs": [],
   "source": [
    "penetracion_Hogares.rename(columns={' Trimestre ': 'Trimestre'}, inplace=True)"
   ]
  },
  {
   "cell_type": "code",
   "execution_count": 55,
   "metadata": {},
   "outputs": [],
   "source": [
    "penetracion_Hogares['Año-Trimestre'] = penetracion_Hogares['Año'].astype(str) + '-Q' + penetracion_Hogares['Trimestre'].astype(str)"
   ]
  },
  {
   "cell_type": "code",
   "execution_count": 56,
   "metadata": {},
   "outputs": [
    {
     "data": {
      "text/html": [
       "<div>\n",
       "<style scoped>\n",
       "    .dataframe tbody tr th:only-of-type {\n",
       "        vertical-align: middle;\n",
       "    }\n",
       "\n",
       "    .dataframe tbody tr th {\n",
       "        vertical-align: top;\n",
       "    }\n",
       "\n",
       "    .dataframe thead th {\n",
       "        text-align: right;\n",
       "    }\n",
       "</style>\n",
       "<table border=\"1\" class=\"dataframe\">\n",
       "  <thead>\n",
       "    <tr style=\"text-align: right;\">\n",
       "      <th></th>\n",
       "      <th>Año</th>\n",
       "      <th>Trimestre</th>\n",
       "      <th>Provincia</th>\n",
       "      <th>Accesos por cada 100 hogares</th>\n",
       "      <th>Año-Trimestre</th>\n",
       "    </tr>\n",
       "  </thead>\n",
       "  <tbody>\n",
       "    <tr>\n",
       "      <th>0</th>\n",
       "      <td>2024</td>\n",
       "      <td>1</td>\n",
       "      <td>Buenos Aires</td>\n",
       "      <td>81,10</td>\n",
       "      <td>2024-Q1</td>\n",
       "    </tr>\n",
       "    <tr>\n",
       "      <th>1</th>\n",
       "      <td>2024</td>\n",
       "      <td>1</td>\n",
       "      <td>Capital Federal</td>\n",
       "      <td>119,53</td>\n",
       "      <td>2024-Q1</td>\n",
       "    </tr>\n",
       "    <tr>\n",
       "      <th>2</th>\n",
       "      <td>2024</td>\n",
       "      <td>1</td>\n",
       "      <td>Catamarca</td>\n",
       "      <td>68,82</td>\n",
       "      <td>2024-Q1</td>\n",
       "    </tr>\n",
       "    <tr>\n",
       "      <th>3</th>\n",
       "      <td>2024</td>\n",
       "      <td>1</td>\n",
       "      <td>Chaco</td>\n",
       "      <td>46,70</td>\n",
       "      <td>2024-Q1</td>\n",
       "    </tr>\n",
       "    <tr>\n",
       "      <th>4</th>\n",
       "      <td>2024</td>\n",
       "      <td>1</td>\n",
       "      <td>Chubut</td>\n",
       "      <td>84,89</td>\n",
       "      <td>2024-Q1</td>\n",
       "    </tr>\n",
       "  </tbody>\n",
       "</table>\n",
       "</div>"
      ],
      "text/plain": [
       "    Año  Trimestre         Provincia  Accesos por cada 100 hogares  \\\n",
       "0  2024          1      Buenos Aires                        81,10    \n",
       "1  2024          1   Capital Federal                       119,53    \n",
       "2  2024          1         Catamarca                        68,82    \n",
       "3  2024          1             Chaco                        46,70    \n",
       "4  2024          1            Chubut                        84,89    \n",
       "\n",
       "  Año-Trimestre  \n",
       "0       2024-Q1  \n",
       "1       2024-Q1  \n",
       "2       2024-Q1  \n",
       "3       2024-Q1  \n",
       "4       2024-Q1  "
      ]
     },
     "execution_count": 56,
     "metadata": {},
     "output_type": "execute_result"
    }
   ],
   "source": [
    "penetracion_Hogares.head()"
   ]
  },
  {
   "cell_type": "code",
   "execution_count": 57,
   "metadata": {},
   "outputs": [],
   "source": [
    "penetracion_Hogares.to_csv('penetracion_Hogares_AT.csv')"
   ]
  },
  {
   "cell_type": "markdown",
   "metadata": {},
   "source": [
    "----"
   ]
  },
  {
   "cell_type": "markdown",
   "metadata": {},
   "source": [
    "## 6. Análisis de penetracion_Totalesarg"
   ]
  },
  {
   "cell_type": "code",
   "execution_count": null,
   "metadata": {},
   "outputs": [],
   "source": [
    "penetracion_Totalesarg.head()"
   ]
  },
  {
   "cell_type": "code",
   "execution_count": null,
   "metadata": {},
   "outputs": [
    {
     "name": "stdout",
     "output_type": "stream",
     "text": [
      "<class 'pandas.core.frame.DataFrame'>\n",
      "RangeIndex: 41 entries, 0 to 40\n",
      "Data columns (total 5 columns):\n",
      " #   Column                        Non-Null Count  Dtype \n",
      "---  ------                        --------------  ----- \n",
      " 0   Año                           41 non-null     int64 \n",
      " 1   Trimestre                     41 non-null     int64 \n",
      " 2   Accesos por cada 100 hogares  41 non-null     object\n",
      " 3   Accesos por cada 100 hab      41 non-null     object\n",
      " 4   Periodo                       41 non-null     object\n",
      "dtypes: int64(2), object(3)\n",
      "memory usage: 1.7+ KB\n"
     ]
    }
   ],
   "source": [
    "penetracion_Totalesarg.info()"
   ]
  },
  {
   "cell_type": "code",
   "execution_count": null,
   "metadata": {},
   "outputs": [],
   "source": [
    "penetracion_Totalesarg.describe()"
   ]
  },
  {
   "cell_type": "markdown",
   "metadata": {},
   "source": [
    "----"
   ]
  }
 ],
 "metadata": {
  "kernelspec": {
   "display_name": "Python 3",
   "language": "python",
   "name": "python3"
  },
  "language_info": {
   "codemirror_mode": {
    "name": "ipython",
    "version": 3
   },
   "file_extension": ".py",
   "mimetype": "text/x-python",
   "name": "python",
   "nbconvert_exporter": "python",
   "pygments_lexer": "ipython3",
   "version": "3.12.4"
  }
 },
 "nbformat": 4,
 "nbformat_minor": 2
}
