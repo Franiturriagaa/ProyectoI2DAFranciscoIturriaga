{
 "cells": [
  {
   "cell_type": "markdown",
   "metadata": {},
   "source": [
    "# Análisis Exploratorio de Datos (EDA) sobre Servicios de Internet en Argentina"
   ]
  },
  {
   "cell_type": "markdown",
   "metadata": {},
   "source": [
    "## Introducción al Análisis Exploratorio de Datos\n",
    "\n",
    "El acceso a internet se ha convertido en un pilar fundamental para el desarrollo económico y social de Argentina. La conectividad no solo facilita la comunicación y el acceso a la información, sino que también es clave para la educación, la salud, y la economía digital. Sin embargo, la calidad y disponibilidad del servicio de internet varían considerablemente entre regiones, lo que hace necesario un análisis detallado para entender estas diferencias y su evolución en el tiempo.\n",
    "\n",
    "Este análisis exploratorio de datos (EDA) busca evaluar cómo han cambiado los patrones de uso, la velocidad de conexión, y otros indicadores clave del servicio de internet a nivel nacional entre 2014 y 2024. El objetivo es identificar tendencias y oportunidades para mejorar la infraestructura de telecomunicaciones en todo el país, proporcionando insights que puedan guiar tanto a los responsables de políticas como a las empresas del sector en sus decisiones para mejorar la conectividad en todas las provincias.\n"
   ]
  },
  {
   "cell_type": "markdown",
   "metadata": {},
   "source": [
    "-----"
   ]
  },
  {
   "cell_type": "markdown",
   "metadata": {},
   "source": [
    "## 0. PreAnálisis"
   ]
  },
  {
   "cell_type": "markdown",
   "metadata": {},
   "source": [
    "Antes de empezar con el análisis mas profundo vi por encima los 6 datasets que elegi para este proyecto, para poder contar que datos registra cada uno:\n",
    "\n",
    "1. Accesos_por_velocidad.csv: compuesto por casi 985 filas y 11 columnas, nos muestra datos desde 2014 a 2024, divididos por trimestres, teniendo en cuenta las 23 provincias argentinas y la capital federal, el rango de banda ancha y cuantos hogares tienen acceso en esas localidades a cada rango de velocidad.\n",
    "\n",
    "2. Totales_Accesos_por_velocidad.csv: compuesto por 42 filas y 12 columnas, muestra datos desde 2014 a 2024, de distintos rangos de banda ancha(velocidad), y cuantos hogares(es lo que supongo por los numeros) tienen acceso a esos rangos de banda ancha.\n",
    "\n",
    "3. Velocidad_por_provincia.csv: compuesto por 985 filas y 4 columnas, muestra datos desde 2014 a 2024, divididos por trimestres, de las 23 provincias argentinas y la capital federal, cual es la media de bajada de cada una en Mbps.\n",
    "\n",
    "4. Internet_IngresosTotalesxTrimestre.csv: compuesto por 43 filas y 4 columnas, muestra datos desde 2014 a 2024, divididos por trimestre, de la cantidad ingresos totales de los servicios de Internet a nivel nacional.\n",
    "\n",
    "5. Penetracion-hogares.csv: compuesto por 985 filas y 4 columnas, muestra datos desde 2014 a 2024, divididos por trimestre, mostrando los accesos cada 100 hogares por provincia.\n",
    "\n",
    "6. Penetracion-totales.csv: compuesto por 42 filas y 5 columnas, muestrados desde 2014 a 2024, divididos por trimestre, mostrando los accesos cada 100 hogares, y tambien por cada 100 habitantes, en total del pais.\n"
   ]
  },
  {
   "cell_type": "markdown",
   "metadata": {},
   "source": [
    "Empiezo importando las librerias necesarias para realizar el análisis"
   ]
  },
  {
   "cell_type": "code",
   "execution_count": null,
   "metadata": {},
   "outputs": [],
   "source": [
    "import pandas as pd\n",
    "import matplotlib.pyplot as plt\n",
    "import seaborn as sns\n",
    "import numpy as np\n"
   ]
  },
  {
   "cell_type": "markdown",
   "metadata": {},
   "source": [
    "Elijo los CSV que me parecen importantes para realizarles un análisis, teniendo en cuenta que necesito conocer los aspectos mas importantes del comportamiento de los servicios de Internet a nivel nacional (Argentina)."
   ]
  },
  {
   "cell_type": "code",
   "execution_count": null,
   "metadata": {},
   "outputs": [],
   "source": [
    "# Leo y cargo en un DataFrame cada uno de los 6 CSVs que elegi guiandome por los datos que vi por encima en libreOffice\n",
    "accesos_Provincia_Por_Velocidad = pd.read_csv('Dataset_Internet/00Accesos/Accesos_por_velocidad.csv', encoding='latin1')\n",
    "totalesarg_Accesos_Por_Velocidad = pd.read_csv('Dataset_Internet/00Accesos/Totales_Accesos_por_velocidad.csv', encoding='latin1')\n",
    "velocidad_Total_Por_Provincia = pd.read_csv('Dataset_Internet/03Velocidad/Velocidad_por_provincia.csv', encoding='latin1')\n",
    "internet_IngresosTotalesxTrimestre = pd.read_csv('Dataset_Internet/02Totales/Internet_IngresosTotalesxTrimestre.csv', encoding='latin1')\n",
    "penetracion_Hogares = pd.read_csv('Dataset_Internet/01Penetracion/Penetracion-hogares.csv', encoding='latin1')\n",
    "penetracion_Totalesarg = pd.read_csv('Dataset_Internet/01Penetracion/Penetracion-totales.csv', encoding='latin1')\n"
   ]
  },
  {
   "cell_type": "markdown",
   "metadata": {},
   "source": [
    "## Mi enfoque en el análisis"
   ]
  },
  {
   "cell_type": "markdown",
   "metadata": {},
   "source": [
    "Ahora voy a ir por cada uno de los datasets analizando detenidamente las siguientes cosas:\n",
    "1. Aspectos Generales del dataset: \n",
    "    Como el tipo de variables (ya sean categoricas o numericas), la cantidad de filas y columnas, valores nulos o faltantes.\n",
    "2. Descripcion Estadistica:\n",
    " \n",
    "    Medidas de tendencia central:\n",
    "    \n",
    "    Media\n",
    "    \n",
    "    Mediana\n",
    "\n",
    "    Medidas de Variabilidad:\n",
    "\n",
    "    Desviacion Estandar\n",
    "    \n",
    "    Rango Intercuartil\n",
    "\n",
    "3. Visualizacion de los datos:\n",
    "    Histograma\n",
    "    Boxplot (para intercuartiles)\n",
    "\n",
    "4. Analisis Bivariado y Multivariado:\n",
    "    Grafica de dispersion >>> Para ver aumento lineal\n",
    "    Indice de Correlacion Lineal entre variables: Positiva, Inversa o no hay Correlacion.\n",
    "    Grafico de Violin\n",
    "    Comparar una variable categorica y una numerica\n",
    "5. Correlacion"
   ]
  },
  {
   "cell_type": "markdown",
   "metadata": {},
   "source": [
    "----"
   ]
  },
  {
   "cell_type": "markdown",
   "metadata": {},
   "source": [
    "1. ## Análisis de accesos_Provincia_Por_Velocidad"
   ]
  },
  {
   "cell_type": "code",
   "execution_count": null,
   "metadata": {},
   "outputs": [],
   "source": [
    "accesos_Provincia_Por_Velocidad.head()"
   ]
  },
  {
   "cell_type": "markdown",
   "metadata": {},
   "source": [
    "Con este .head() miro por encima que tengo datos categoricos, y datos numericos discretos. Ademas de la distribucion de las columnas."
   ]
  },
  {
   "cell_type": "code",
   "execution_count": null,
   "metadata": {},
   "outputs": [],
   "source": [
    "accesos_Provincia_Por_Velocidad.info()"
   ]
  },
  {
   "cell_type": "markdown",
   "metadata": {},
   "source": [
    "De este .info() puedo ver los tipos de datos de cada columnas, donde tenemos integers, floats y objetos, determino tambien que solo hay valores faltantes en la columna OTROS, luego de revisarlos con una herramienta llamada \"Data Wrangler\" que me permite ver el dataset completo, llegue a la conclusion de que puedo transformar los nulos a 0 para tener mas limpio el df."
   ]
  },
  {
   "cell_type": "code",
   "execution_count": null,
   "metadata": {},
   "outputs": [],
   "source": [
    "accesos_Provincia_Por_Velocidadsinnulos = accesos_Provincia_Por_Velocidad.fillna(0)"
   ]
  },
  {
   "cell_type": "code",
   "execution_count": null,
   "metadata": {},
   "outputs": [],
   "source": [
    "accesos_Provincia_Por_Velocidadsinnulos.head()"
   ]
  },
  {
   "cell_type": "markdown",
   "metadata": {},
   "source": [
    "Con el siguiente .describe() puedo ver datos como la media, la variacion estandar, los valores minimos y maximos y los cuartiles."
   ]
  },
  {
   "cell_type": "code",
   "execution_count": null,
   "metadata": {},
   "outputs": [],
   "source": [
    "accesos_Provincia_Por_Velocidadsinnulos.describe()"
   ]
  },
  {
   "cell_type": "code",
   "execution_count": 133,
   "metadata": {},
   "outputs": [
    {
     "name": "stdout",
     "output_type": "stream",
     "text": [
      "<class 'pandas.core.frame.DataFrame'>\n",
      "RangeIndex: 984 entries, 0 to 983\n",
      "Data columns (total 12 columns):\n",
      " #   Column               Non-Null Count  Dtype  \n",
      "---  ------               --------------  -----  \n",
      " 0   Año                  984 non-null    int64  \n",
      " 1   Trimestre            984 non-null    int64  \n",
      " 2   Provincia            984 non-null    object \n",
      " 3   HASTA 512 kbps       984 non-null    float64\n",
      " 4   + 512 Kbps - 1 Mbps  984 non-null    float64\n",
      " 5   + 1 Mbps - 6 Mbps    984 non-null    object \n",
      " 6   + 6 Mbps - 10 Mbps   984 non-null    float64\n",
      " 7   + 10 Mbps - 20 Mbps  984 non-null    float64\n",
      " 8   + 20 Mbps - 30 Mbps  984 non-null    float64\n",
      " 9   + 30 Mbps            984 non-null    object \n",
      " 10  OTROS                984 non-null    float64\n",
      " 11  Total                984 non-null    object \n",
      "dtypes: float64(6), int64(2), object(4)\n",
      "memory usage: 92.4+ KB\n"
     ]
    }
   ],
   "source": [
    "accesos_Provincia_Por_Velocidadsinnulos.info()"
   ]
  },
  {
   "cell_type": "markdown",
   "metadata": {},
   "source": [
    "Paso el csv limpio de accesos_Provincia_Por_Velocidad a un archivo .csv"
   ]
  },
  {
   "cell_type": "code",
   "execution_count": null,
   "metadata": {},
   "outputs": [],
   "source": [
    "accesos_Provincia_Por_Velocidadsinnulos.to_csv('accesos_Provincia_Por_Velocidad_Limpio.csv', index=False)"
   ]
  },
  {
   "cell_type": "markdown",
   "metadata": {},
   "source": [
    "----"
   ]
  },
  {
   "cell_type": "markdown",
   "metadata": {},
   "source": [
    "## 2. Análisis de totalesarg_Accesos_Por_Velocidad"
   ]
  },
  {
   "cell_type": "markdown",
   "metadata": {},
   "source": [
    "Repito el mismo proceso hecho anteriormente ahora con el siguiente dataframe"
   ]
  },
  {
   "cell_type": "code",
   "execution_count": null,
   "metadata": {},
   "outputs": [],
   "source": [
    "totalesarg_Accesos_Por_Velocidad.head()"
   ]
  },
  {
   "cell_type": "markdown",
   "metadata": {},
   "source": [
    "Con el .info() me doy cuenta de que todas las filas tienen datos que no son nulos, por lo cual decido no transformar este dataset."
   ]
  },
  {
   "cell_type": "code",
   "execution_count": 132,
   "metadata": {},
   "outputs": [
    {
     "name": "stdout",
     "output_type": "stream",
     "text": [
      "<class 'pandas.core.frame.DataFrame'>\n",
      "RangeIndex: 41 entries, 0 to 40\n",
      "Data columns (total 11 columns):\n",
      " #   Column                   Non-Null Count  Dtype  \n",
      "---  ------                   --------------  -----  \n",
      " 0   Año                      41 non-null     int64  \n",
      " 1   Trimestre                41 non-null     int64  \n",
      " 2   Hasta 512 kbps           41 non-null     float64\n",
      " 3   Entre 512 Kbps y 1 Mbps  41 non-null     float64\n",
      " 4   Entre 1 Mbps y 6 Mbps    41 non-null     object \n",
      " 5   Entre 6 Mbps y 10 Mbps   41 non-null     object \n",
      " 6   Entre 10 Mbps y 20 Mbps  41 non-null     object \n",
      " 7   Entre 20 Mbps y 30 Mbps  41 non-null     object \n",
      " 8   Más de 30 Mbps           41 non-null     object \n",
      " 9   OTROS                    41 non-null     float64\n",
      " 10  Total                    41 non-null     object \n",
      "dtypes: float64(3), int64(2), object(6)\n",
      "memory usage: 3.7+ KB\n"
     ]
    }
   ],
   "source": [
    "totalesarg_Accesos_Por_Velocidad.info()"
   ]
  },
  {
   "cell_type": "code",
   "execution_count": null,
   "metadata": {},
   "outputs": [],
   "source": [
    "totalesarg_Accesos_Por_Velocidad.describe()"
   ]
  },
  {
   "cell_type": "markdown",
   "metadata": {},
   "source": [
    "----"
   ]
  },
  {
   "cell_type": "markdown",
   "metadata": {},
   "source": [
    "## 3. Análisis de velocidad_Total_Por_Provincia"
   ]
  },
  {
   "cell_type": "markdown",
   "metadata": {},
   "source": [
    "Reviso de que trata el dataframe, veo que tengo datos categoricos y numericos"
   ]
  },
  {
   "cell_type": "code",
   "execution_count": null,
   "metadata": {},
   "outputs": [],
   "source": [
    "velocidad_Total_Por_Provincia.head()"
   ]
  },
  {
   "cell_type": "markdown",
   "metadata": {},
   "source": [
    "Veo que no hay nulos asi que no transformo los datos, se los tipos de datos que tengo, tanto objetos como integers, la cantidad de filas(984) y la cantidad de columnas(4)"
   ]
  },
  {
   "cell_type": "code",
   "execution_count": 131,
   "metadata": {},
   "outputs": [
    {
     "name": "stdout",
     "output_type": "stream",
     "text": [
      "<class 'pandas.core.frame.DataFrame'>\n",
      "RangeIndex: 984 entries, 0 to 983\n",
      "Data columns (total 4 columns):\n",
      " #   Column                  Non-Null Count  Dtype \n",
      "---  ------                  --------------  ----- \n",
      " 0   Año                     984 non-null    int64 \n",
      " 1   Trimestre               984 non-null    int64 \n",
      " 2   Provincia               984 non-null    object\n",
      " 3   Mbps (Media de bajada)  984 non-null    object\n",
      "dtypes: int64(2), object(2)\n",
      "memory usage: 30.9+ KB\n"
     ]
    }
   ],
   "source": [
    "velocidad_Total_Por_Provincia.info()"
   ]
  },
  {
   "cell_type": "code",
   "execution_count": null,
   "metadata": {},
   "outputs": [],
   "source": [
    "velocidad_Total_Por_Provincia.describe()"
   ]
  },
  {
   "cell_type": "markdown",
   "metadata": {},
   "source": [
    "---"
   ]
  },
  {
   "cell_type": "markdown",
   "metadata": {},
   "source": [
    "## 4. Análisis de internet_IngresosTotalesxTrimestre"
   ]
  },
  {
   "cell_type": "code",
   "execution_count": null,
   "metadata": {},
   "outputs": [],
   "source": [
    "internet_IngresosTotalesxTrimestre.head()"
   ]
  },
  {
   "cell_type": "code",
   "execution_count": 130,
   "metadata": {},
   "outputs": [
    {
     "name": "stdout",
     "output_type": "stream",
     "text": [
      "<class 'pandas.core.frame.DataFrame'>\n",
      "RangeIndex: 41 entries, 0 to 40\n",
      "Data columns (total 4 columns):\n",
      " #   Column                     Non-Null Count  Dtype \n",
      "---  ------                     --------------  ----- \n",
      " 0   Año                        41 non-null     int64 \n",
      " 1    Trimestre                 41 non-null     int64 \n",
      " 2   Ingresos (miles de pesos)  41 non-null     object\n",
      " 3    Periodo                   41 non-null     object\n",
      "dtypes: int64(2), object(2)\n",
      "memory usage: 1.4+ KB\n"
     ]
    }
   ],
   "source": [
    "internet_IngresosTotalesxTrimestre.info()"
   ]
  },
  {
   "cell_type": "code",
   "execution_count": null,
   "metadata": {},
   "outputs": [],
   "source": [
    "internet_IngresosTotalesxTrimestre.describe()"
   ]
  },
  {
   "cell_type": "markdown",
   "metadata": {},
   "source": [
    "---"
   ]
  },
  {
   "cell_type": "markdown",
   "metadata": {},
   "source": [
    "## 5. Análisis de penetracion_Hogares"
   ]
  },
  {
   "cell_type": "code",
   "execution_count": null,
   "metadata": {},
   "outputs": [],
   "source": [
    "penetracion_Hogares.head()"
   ]
  },
  {
   "cell_type": "code",
   "execution_count": 129,
   "metadata": {},
   "outputs": [
    {
     "name": "stdout",
     "output_type": "stream",
     "text": [
      "<class 'pandas.core.frame.DataFrame'>\n",
      "RangeIndex: 984 entries, 0 to 983\n",
      "Data columns (total 4 columns):\n",
      " #   Column                        Non-Null Count  Dtype \n",
      "---  ------                        --------------  ----- \n",
      " 0   Año                           984 non-null    int64 \n",
      " 1    Trimestre                    984 non-null    int64 \n",
      " 2    Provincia                    984 non-null    object\n",
      " 3   Accesos por cada 100 hogares  984 non-null    object\n",
      "dtypes: int64(2), object(2)\n",
      "memory usage: 30.9+ KB\n"
     ]
    }
   ],
   "source": [
    "penetracion_Hogares.info()"
   ]
  },
  {
   "cell_type": "code",
   "execution_count": null,
   "metadata": {},
   "outputs": [],
   "source": [
    "penetracion_Hogares.describe()"
   ]
  },
  {
   "cell_type": "markdown",
   "metadata": {},
   "source": [
    "----"
   ]
  },
  {
   "cell_type": "markdown",
   "metadata": {},
   "source": [
    "## 6. Análisis de penetracion_Totalesarg"
   ]
  },
  {
   "cell_type": "code",
   "execution_count": null,
   "metadata": {},
   "outputs": [],
   "source": [
    "penetracion_Totalesarg.head()"
   ]
  },
  {
   "cell_type": "code",
   "execution_count": 128,
   "metadata": {},
   "outputs": [
    {
     "name": "stdout",
     "output_type": "stream",
     "text": [
      "<class 'pandas.core.frame.DataFrame'>\n",
      "RangeIndex: 41 entries, 0 to 40\n",
      "Data columns (total 5 columns):\n",
      " #   Column                        Non-Null Count  Dtype \n",
      "---  ------                        --------------  ----- \n",
      " 0   Año                           41 non-null     int64 \n",
      " 1   Trimestre                     41 non-null     int64 \n",
      " 2   Accesos por cada 100 hogares  41 non-null     object\n",
      " 3   Accesos por cada 100 hab      41 non-null     object\n",
      " 4   Periodo                       41 non-null     object\n",
      "dtypes: int64(2), object(3)\n",
      "memory usage: 1.7+ KB\n"
     ]
    }
   ],
   "source": [
    "penetracion_Totalesarg.info()"
   ]
  },
  {
   "cell_type": "code",
   "execution_count": null,
   "metadata": {},
   "outputs": [],
   "source": [
    "penetracion_Totalesarg.describe()"
   ]
  },
  {
   "cell_type": "markdown",
   "metadata": {},
   "source": [
    "----"
   ]
  }
 ],
 "metadata": {
  "kernelspec": {
   "display_name": "Python 3",
   "language": "python",
   "name": "python3"
  },
  "language_info": {
   "codemirror_mode": {
    "name": "ipython",
    "version": 3
   },
   "file_extension": ".py",
   "mimetype": "text/x-python",
   "name": "python",
   "nbconvert_exporter": "python",
   "pygments_lexer": "ipython3",
   "version": "3.12.4"
  }
 },
 "nbformat": 4,
 "nbformat_minor": 2
}
